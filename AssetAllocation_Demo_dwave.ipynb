{
 "cells": [
  {
   "cell_type": "markdown",
   "metadata": {},
   "source": [
    "## Portfolio Optimization using Quadratic Unconstraint Binary Optimization (QUBOs) with Constraints"
   ]
  },
  {
   "cell_type": "code",
   "execution_count": 1,
   "metadata": {},
   "outputs": [],
   "source": [
    "import pygrnd\n",
    "from pygrnd.optimize.sat_ucp import *\n"
   ]
  },
  {
   "cell_type": "code",
   "execution_count": 2,
   "metadata": {},
   "outputs": [],
   "source": [
    "import numpy as np\n",
    "#from functions import Long_Short, Cov_Matrix_Resolution\n",
    "#from pygrnd.optimize.helpers.qubomatrix import matrix_to_qubo\n",
    "#from pygrnd.optimize.simulate.anneal import anneal_qubo\n",
    "import ipywidgets as widgets\n",
    "from ipywidgets import interact, interactive, fixed, interact_manual\n",
    "import matplotlib.pyplot as plt\n",
    "from IPython.display import display\n",
    "import seaborn as sns"
   ]
  },
  {
   "cell_type": "markdown",
   "metadata": {},
   "source": [
    "# Application: Create Market neutral portfolio\n",
    "\n",
    " - Pick stocks from a list\n",
    " - want to pick 5 long and 5 short positions\n",
    " - want minimal variance -> similar to constraint\n",
    " \n",
    " --> minimizing variance with a QUBO is straightforward\n",
    " \n",
    " --> Use covariance matrix as Q"
   ]
  },
  {
   "cell_type": "markdown",
   "metadata": {},
   "source": [
    "### First write matrix in qubo form\n",
    "\n",
    "A QUBO problem is defined using an upper-diagonal matrix Q, which is an N x N upper-triangular matrix of real weights, and x, a vector of binary variables, as minimizing the function\n",
    "$$ f(x) = \\sum_{i} Q_{i,i} x_{i} + \\sum_{i<j} Q_{i,j} x_{i} x_{j}  $$\n",
    "with $Q_{i,i}$ are the linear coefficients and $Q_{i,j}$ nonzero off-diagonal terms are the quadratic coefficients. Or different representation:\n",
    "$$ min_{x \\in \\{0,1\\}^{N}} x^{T} Q x $$"
   ]
  },
  {
   "cell_type": "markdown",
   "metadata": {},
   "source": [
    "## Convert entries $x_i$ to be non-binary\n",
    "\n",
    " $\\rightarrow$ $\\quad$ $-1$ for short position\n",
    "\n",
    " $\\rightarrow$ $\\quad$ $0$ not selected for portfolio\n",
    "\n",
    " $\\rightarrow$ $\\quad$ $+1$ long position\n",
    " \n",
    " for example: (−1, 1, 0, 0, 0, 0, 0, 0, 0, 0, 0, 0, 0, 0, 0, 0, 0, 0, 0, 0, 0)\n",
    " which is CBK long, DBK short\n",
    " \n",
    " PROBLEM!!  x needs to be 0 or 1\n",
    " \n",
    " SOLUTION: double the size to 42 components\n",
    " --> size of $x$ is doubled, first part long positions (21x 0 or 1), second part short positions (21x 0 or 1)\n",
    " \n",
    " Capture variance and covariance among long and shorts separatly:\n",
    " \n",
    "  $Q_u = \\begin{pmatrix}\n",
    "C & 0 \\\\\n",
    "0 & C\n",
    "\\end{pmatrix}$\n",
    "\n",
    " where C is the covariance matrix.\n",
    " \n",
    " Covariance between a long asset i and short in asset j is given by  $-Cov(i,j)$\n",
    " \n",
    " $Q_u = \\begin{pmatrix}\n",
    "C & -C \\\\\n",
    "-C & C\n",
    "\\end{pmatrix}$\n",
    "\n",
    "for the full unconstrained Qubo matrix $Q_u$\n",
    "\n"
   ]
  },
  {
   "cell_type": "markdown",
   "metadata": {},
   "source": [
    "## Adding constraints\n",
    "\n",
    " 1. exactly 5 long and 5 short positions: $Q_{c1}$\n",
    " \n",
    " $\\sum_i x_i = N$, with $N$ total assets picked\n",
    " \n",
    " $(\\sum_i x_i - N)^2 = 0$\n",
    " \n",
    " $\\sum_i x_i \\sum_j x_j - 2 N \\sum_i x_i + N = 0$\n",
    " \n",
    " $\\Leftrightarrow minimize \\sum_i x_i \\sum_j x_j - 2 N \\sum_i x_i$\n",
    " \n",
    " \n",
    " $\\rightarrow$  $Q_{c1} = \\begin{pmatrix}\n",
    "-2N-1 & 1 & ... \\\\\n",
    "1 & -2N-1 & ... \\\\\n",
    "...\n",
    "\\end{pmatrix}$\n",
    " \n",
    " \n",
    " \n",
    " 2. no simultaneous long and short position in the same stock $Q_{c2}$\n",
    " \n",
    " $Q_{c2} = \\begin{pmatrix}\n",
    "0 & 1 \\\\\n",
    "1 & 0\n",
    "\\end{pmatrix}$\n",
    " \n",
    " \n",
    " --> $Q = Q_u + Q_{c1} + Q_{c2}$"
   ]
  },
  {
   "cell_type": "code",
   "execution_count": 3,
   "metadata": {},
   "outputs": [
    {
     "name": "stdout",
     "output_type": "stream",
     "text": [
      "Cov size: 30  x  30\n"
     ]
    }
   ],
   "source": [
    "bigq=np.zeros((30,30))\n",
    "cov = np.load(\"DAXCovMat.npy\")\n",
    "c1=np.zeros((30,30))\n",
    "qc1=np.zeros((30,30))\n",
    "\n",
    "print(\"Cov size:\",len(cov),\" x \",len(cov))"
   ]
  },
  {
   "cell_type": "code",
   "execution_count": 4,
   "metadata": {},
   "outputs": [],
   "source": [
    "## function to build the QUBO matrix using the covariance matrix\n",
    "\n",
    "def MakeQubo(m):\n",
    "        for x in range(np.size(m,0)):\n",
    "            for y in range(np.size(m,1)):\n",
    "                if x>y:\n",
    "                    m[x,y]=0\n",
    "                if x<y:\n",
    "                    m[x,y]=2*m[x,y]\n",
    "        return(m)"
   ]
  },
  {
   "cell_type": "code",
   "execution_count": 5,
   "metadata": {},
   "outputs": [],
   "source": [
    "## adding the constraints 1 and 2\n",
    "\n",
    "def BuildConstraintMatrix1(la,lp,sp):\n",
    "    big=np.zeros((30,30))\n",
    "    sa=30-la\n",
    "    # constraint for the longs\n",
    "    for x in range(30):\n",
    "        for y in range(30):\n",
    "            qc1[x,y]=0\n",
    "    for x in range(la):\n",
    "        for y in range(la):\n",
    "            qc1[x,y]=1\n",
    "            if x==y:\n",
    "                qc1[x,y]=-2*lp+1\n",
    "    # constraint for the shorts\n",
    "    for x in range(sa):\n",
    "        for y in range(sa):\n",
    "            qc1[la+x,la+y]=1\n",
    "            if x==y:\n",
    "                qc1[la+x,la+y]=-2*sp+1\n",
    "    for x in range(la):\n",
    "        for y in range(la):\n",
    "            c1[x,y]=cov[x,y]\n",
    "    # cov for short-short\n",
    "    for x in range(sa):\n",
    "        for y in range(sa):\n",
    "            c1[la+x,la+y]=cov[la+x,la+y]\n",
    "    # cov for long-short\n",
    "    for x in range(sa):\n",
    "        for y in range(la):\n",
    "            c1[la+x,y] = -cov[la+x,y]\n",
    "    for x in range(la):\n",
    "        for y in range(sa):\n",
    "            c1[x,la+y] = -cov[x,la+y]\n",
    "    plt.matshow(c1)\n",
    "    plt.matshow(qc1)\n",
    "    big=MakeQubo(c1+qc1)\n",
    "    for x in range(30):\n",
    "        for y in range(30):\n",
    "            bigq[x,y]=big[x,y]\n",
    "    return()"
   ]
  },
  {
   "cell_type": "markdown",
   "metadata": {},
   "source": [
    "# here we try the D-Wave greedy solver:"
   ]
  },
  {
   "cell_type": "code",
   "execution_count": 6,
   "metadata": {
    "scrolled": false
   },
   "outputs": [
    {
     "data": {
      "application/vnd.jupyter.widget-view+json": {
       "model_id": "a92e2d0f724442eaaa900bc75f48050a",
       "version_major": 2,
       "version_minor": 0
      },
      "text/plain": [
       "HBox(children=(HBox(children=(IntSlider(value=10, description='LongvShort:', max=30), IntSlider(value=5, descr…"
      ]
     },
     "metadata": {},
     "output_type": "display_data"
    },
    {
     "data": {
      "application/vnd.jupyter.widget-view+json": {
       "model_id": "8cd4601a31594c2ea6614aede6e158b4",
       "version_major": 2,
       "version_minor": 0
      },
      "text/plain": [
       "Button(description='SOLVE!', style=ButtonStyle())"
      ]
     },
     "metadata": {},
     "output_type": "display_data"
    },
    {
     "data": {
      "application/vnd.jupyter.widget-view+json": {
       "model_id": "0ef25be2feaa460485fd25a7a6d9f99e",
       "version_major": 2,
       "version_minor": 0
      },
      "text/plain": [
       "Tab(children=(Output(), Output(), Output()), _titles={'0': 'Input', '1': 'Heatmap', '2': 'Solution'})"
      ]
     },
     "metadata": {},
     "output_type": "display_data"
    }
   ],
   "source": [
    "La = widgets.IntSlider(\n",
    "    min=0,\n",
    "    max=30,\n",
    "    step=1,\n",
    "    description='LongvShort:',\n",
    "    value=10\n",
    ")\n",
    "Long = widgets.IntSlider(\n",
    "    min=0,\n",
    "    max=10,\n",
    "    step=1,\n",
    "    description='Buy:',\n",
    "    value=5\n",
    ")\n",
    "Short = widgets.IntSlider(\n",
    "    min=0,\n",
    "    max=10,\n",
    "    step=1,\n",
    "    description='Sell:',\n",
    "    value=5\n",
    ")\n",
    "\n",
    "ui = widgets.HBox([widgets.HBox([La, Long, Short])])\n",
    "\n",
    "out = widgets.interactive_output(BuildConstraintMatrix1, {'la': La, 'lp': Long, 'sp': Short})\n",
    "\n",
    "outputCovPlot = widgets.Output()\n",
    "\n",
    "button = widgets.Button(description=\"SOLVE!\")\n",
    "output = widgets.Output()\n",
    "\n",
    "def on_button_clicked(b):\n",
    "    with output:\n",
    "        #qubo = matrix_to_qubo(bigq)\n",
    "        #result=anneal_qubo(qubo, num_anneals=50)\n",
    "        #qubo_solution = result.best.state\n",
    "        #res,vec=MCgradientSearch(bigq,10000)\n",
    "        res,vec=dwaveGreedySolver(bigq,100)\n",
    "        #print(\"Variable assignment:\", qubo_solution)\n",
    "        #print(\"value:\", result.best.value)\n",
    "        #print(\"Constraints satisfied?\", qubo.is_solution_valid(qubo_solution))\n",
    "        #for key in qubo_solution.keys():\n",
    "            #if qubo_solution[key] == 1:\n",
    "                #if key < La.value:\n",
    "                    #print(\"buy:\", key)\n",
    "                #else:\n",
    "                    #print(\"sell:\", key)\n",
    "        for i in range(len(vec)):\n",
    "            if vec[i] == 1:\n",
    "                if i <La.value:\n",
    "                    print(\"buy: \",i)\n",
    "                else:\n",
    "                    print(\"sell: \",i)\n",
    "\n",
    "button.on_click(on_button_clicked)\n",
    "\n",
    "tab = widgets.Tab([outputCovPlot, out, output])\n",
    "tab.set_title(0, 'Input')\n",
    "tab.set_title(1, 'Heatmap')\n",
    "tab.set_title(2, 'Solution')\n",
    "\n",
    "with outputCovPlot:\n",
    "    plt.figure(figsize=(20,20))\n",
    "    sns.heatmap(cov, cmap='coolwarm', annot=True, linewidth=.3)\n",
    "    plt.show()\n",
    "\n",
    "display(ui, button, tab)"
   ]
  },
  {
   "cell_type": "code",
   "execution_count": null,
   "metadata": {},
   "outputs": [],
   "source": []
  },
  {
   "cell_type": "code",
   "execution_count": null,
   "metadata": {},
   "outputs": [],
   "source": []
  }
 ],
 "metadata": {
  "kernelspec": {
   "display_name": "Python 3 (ipykernel)",
   "language": "python",
   "name": "python3"
  },
  "language_info": {
   "codemirror_mode": {
    "name": "ipython",
    "version": 3
   },
   "file_extension": ".py",
   "mimetype": "text/x-python",
   "name": "python",
   "nbconvert_exporter": "python",
   "pygments_lexer": "ipython3",
   "version": "3.10.4"
  }
 },
 "nbformat": 4,
 "nbformat_minor": 4
}
